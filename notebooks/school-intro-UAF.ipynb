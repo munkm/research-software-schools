{
 "cells": [
  {
   "cell_type": "markdown",
   "id": "fc1badd6-86b4-41df-8d0a-492706507603",
   "metadata": {
    "slideshow": {
     "slide_type": "slide"
    },
    "tags": []
   },
   "source": [
    "<img src=\"img/URSSI-TRANS.png\" height=\"200\" alt=\"URSSI logo\" />\n",
    "\n",
    "# Welcome to the URSSI Summer School on Research Software and Open Science "
   ]
  },
  {
   "cell_type": "markdown",
   "id": "0b9d0ce3-3700-4b4a-9616-2996419da41b",
   "metadata": {
    "slideshow": {
     "slide_type": "subslide"
    },
    "tags": []
   },
   "source": [
    "### Overview\n",
    "* Revisit logistics + tools \n",
    "* Provide motivation for this school \n",
    "* Introductions + Icebreaker"
   ]
  },
  {
   "cell_type": "markdown",
   "id": "b4e64bd6-c25b-4c45-b2e1-5476e0881d52",
   "metadata": {
    "slideshow": {
     "slide_type": "slide"
    },
    "tags": []
   },
   "source": [
    "# Summer School Details"
   ]
  },
  {
   "cell_type": "markdown",
   "id": "619cbabe-594e-4c5c-8151-5cb89a7992c7",
   "metadata": {
    "slideshow": {
     "slide_type": "subslide"
    },
    "tags": []
   },
   "source": [
    "### Useful Links\n",
    "* Zulip (chatting, planning): https://urssi-softwareschool.zulipchat.com\n",
    "* HackMD (collaborative notes): https://hackmd.io/@M0eajM-mS9CDKKt8Rq--0g/rJjaxzDdgg\n",
    "* Wifi: \n",
    "  * `eduroam` with your university credentials \n",
    "  * `UAlaska` with username `ASFOSUSummerSchool` and password `asfosusummerschool`"
   ]
  },
  {
   "cell_type": "markdown",
   "id": "78ffc14e-aa45-4d45-9030-852ce7f8ef31",
   "metadata": {
    "slideshow": {
     "slide_type": "subslide"
    },
    "tags": []
   },
   "source": [
    "### Code of Conduct \n",
    "\n",
    "The Code of Conduct for URSSI summer schools can be found here: https://github.com/si2-urssi/summerschool-Aug2025\n",
    "\n",
    "<img src=\"./img/coc-screenshot.png\" height=\"400\" alt=\"Screenshot of code of conduct\" />"
   ]
  },
  {
   "cell_type": "markdown",
   "id": "1f8b59a2-8e1e-4c53-912a-9d3dba24475b",
   "metadata": {
    "slideshow": {
     "slide_type": "subslide"
    },
    "tags": []
   },
   "source": [
    "### Code of Conduct \n",
    "\n",
    "Reporting: please email `madicken.munk[at]oregonstate.edu` or talk to Madicken Munk for CoC reporting.  "
   ]
  },
  {
   "cell_type": "markdown",
   "id": "0dbae44f",
   "metadata": {
    "slideshow": {
     "slide_type": "subslide"
    }
   },
   "source": [
    "### Masking Policy\n",
    "\n",
    "At this summer school we do not require masking.\n",
    "\n",
    "However, please consider wearing a mask **especially if you are feeling sick** to limit the risk of spreading airborne diseases while sitting and listening; feel free to take it off when asking questions so you’re not muffled.\n",
    "\n",
    "Free masks are available at the registration desk.\n"
   ]
  },
  {
   "cell_type": "markdown",
   "id": "ce302496-ca75-4687-84f1-51e32a89d55a",
   "metadata": {
    "slideshow": {
     "slide_type": "subslide"
    },
    "tags": []
   },
   "source": [
    "### Instructors and Organizers \n",
    "\n",
    "<img src=\"img/instructors-uaf.png\" alt=\"August 2025 instructors\" />\n"
   ]
  },
  {
   "cell_type": "markdown",
   "id": "4992a3f4-272e-4818-9938-8b358660a8af",
   "metadata": {
    "slideshow": {
     "slide_type": "subslide"
    },
    "tags": []
   },
   "source": [
    "### TAs \n",
    "\n",
    "* Lucio Queiroz\n",
    "* Sujay Shankar\n",
    "* Cong Gao"
   ]
  },
  {
   "cell_type": "markdown",
   "id": "fb42037f-2dd6-4627-95cc-56ab995fbf58",
   "metadata": {
    "slideshow": {
     "slide_type": "subslide"
    },
    "tags": []
   },
   "source": [
    "### Schedule and plan for the next few days</h3>\n",
    "\n",
    "https://github.com/si2-urssi/summerschool-Aug2025?tab=readme-ov-file#tentative-schedule\n",
    "\n",
    "\n",
    "<img src=\"./img/uaf-agenda-1.png\" height=\"400\" alt=\"Schedule for event\" />"
   ]
  },
  {
   "cell_type": "markdown",
   "id": "a5104815",
   "metadata": {
    "slideshow": {
     "slide_type": "subslide"
    }
   },
   "source": [
    "### Schedule and plan for the next few days</h3>\n",
    "\n",
    "https://github.com/si2-urssi/summerschool-Aug2025?tab=readme-ov-file#tentative-schedule\n",
    "\n",
    "\n",
    "<img src=\"./img/uaf-agenda-2.png\" height=\"400\" alt=\"Schedule for event\" />"
   ]
  },
  {
   "cell_type": "markdown",
   "id": "fe202a8e-d692-4644-b96a-c2a9c21fe190",
   "metadata": {
    "slideshow": {
     "slide_type": "slide"
    },
    "tags": []
   },
   "source": [
    "# About this School"
   ]
  },
  {
   "cell_type": "markdown",
   "id": "87f63fe1-6165-4214-9ac0-a22b58207b06",
   "metadata": {
    "slideshow": {
     "slide_type": "subslide"
    },
    "tags": []
   },
   "source": [
    "### URSSI mission\n",
    "\n",
    "To improve the **quality**, **usefulness**, and **sustainability** of research software by improving **practices**, and increasing **diversity of practitioners**."
   ]
  },
  {
   "cell_type": "markdown",
   "id": "1f2339c5-747e-430f-b6e7-e40e368bc8e5",
   "metadata": {
    "slideshow": {
     "slide_type": "subslide"
    },
    "tags": []
   },
   "source": [
    "### Motivation\n",
    "\n",
    "* Nearly all research relies on software\n",
    "* Even experimental research \n",
    "* But researchers don't get trained in best practices in the same way as experimental methods"
   ]
  },
  {
   "cell_type": "markdown",
   "id": "91fe407a",
   "metadata": {
    "slideshow": {
     "slide_type": "subslide"
    }
   },
   "source": [
    "### Motivation\n",
    "\n",
    "* Software is **key infrastructure** for research and science. \n",
    "* Let's talk about the Alaska Satellite Facility and how software and research intersect"
   ]
  },
  {
   "cell_type": "markdown",
   "id": "29ef2f84-7171-4e38-aac4-d888bc2d2160",
   "metadata": {
    "slideshow": {
     "slide_type": "subslide"
    },
    "tags": []
   },
   "source": [
    "### What are we going to learn about: Research Software?\n",
    "\n",
    "* Software design\n",
    "* Structuring (Python) programs\n",
    "* Collaborative software development\n",
    "* Software testing, continuous integration\n",
    "* Packaging and documentation\n",
    "* Peer code review\n",
    "* Sharing software openly, copyright, software citation"
   ]
  },
  {
   "cell_type": "markdown",
   "id": "c1fe5174-4908-4655-a039-d5d9ec597eb6",
   "metadata": {
    "slideshow": {
     "slide_type": "subslide"
    },
    "tags": []
   },
   "source": [
    "### What are we going to learn about: Open Science?\n",
    "\n",
    "* Ethos of open science\n",
    "* Open tools and resources\n",
    "* Open Data\n",
    "* Open Results "
   ]
  },
  {
   "cell_type": "markdown",
   "id": "15712412-1fc6-42cf-86bc-f19f267f1cb9",
   "metadata": {
    "slideshow": {
     "slide_type": "subslide"
    },
    "tags": []
   },
   "source": [
    "### Open Science 101: Five Modules Organized as a Workflow \n",
    "\n",
    "<img src=\"./img/os101-badge-progression.png\" height=\"200\" alt=\"os101-badging\" />\n"
   ]
  },
  {
   "cell_type": "markdown",
   "id": "a2c2269c-a906-4bce-8edc-ea9e757578cd",
   "metadata": {
    "slideshow": {
     "slide_type": "subslide"
    },
    "tags": []
   },
   "source": [
    "### Structure\n",
    "\n",
    "* Five Full days of research software + open science content \n",
    "* Three-hour sessions in the morning, four hours in the afternoon.\n",
    "* Morning: research software\n",
    "* Early Afternoon: work time + help from instructors and helpers\n",
    "* Late Afternoon: open science\n",
    "* Tuesday: poster session with attendance by Alaska Satellite Facility and Geospatial Institute Staff"
   ]
  },
  {
   "cell_type": "markdown",
   "id": "c48ab6e6-a09f-49e4-903c-708080f5770a",
   "metadata": {
    "slideshow": {
     "slide_type": "subslide"
    },
    "tags": []
   },
   "source": [
    "## Requirements / setup\n",
    "\n",
    "A laptop with a Mac, Linux, or Windows operating system, and some packages installed:\n",
    "- the Bash shell\n",
    "- Git\n",
    "- Python 3.x; we recommend installing miniforge for these tutorials\n",
    "- a text editor, preferably one designed for writing code (vim, emacs, vscode, etc.)\n",
    "\n",
    "... and some additional resources\n",
    "- GitHub account, with ssh keys (or https) set, and your git configured"
   ]
  },
  {
   "cell_type": "markdown",
   "id": "fb0fa9d8-4f32-439e-9889-ad8145a1a9c1",
   "metadata": {
    "slideshow": {
     "slide_type": "slide"
    },
    "tags": []
   },
   "source": [
    "# Introductions and Icebreaker "
   ]
  },
  {
   "cell_type": "markdown",
   "id": "7f13602b-8aa6-4226-941d-3a45722b2699",
   "metadata": {
    "slideshow": {
     "slide_type": "subslide"
    },
    "tags": []
   },
   "source": [
    "### Introductions\n",
    "\n",
    "- Who are you?\n",
    "- What do you do, and where do you do it?\n",
    "- What do you hope to get out of this?\n",
    "- Fun fact: What is your favorite colormap? \n",
    "- Backup fun fact: What is your favorite \"dad\" joke or bad pun? "
   ]
  },
  {
   "cell_type": "markdown",
   "id": "f4f9bd19-9efb-4023-94ba-ea040f274ec3",
   "metadata": {
    "slideshow": {
     "slide_type": "subslide"
    },
    "tags": []
   },
   "source": [
    "### Attribution: OS101 Community\n",
    "\n",
    "This week's modules on Open Science are made possible thanks to the work of the entire NASA Open Science 101 community (3100+)! \n",
    "\n",
    "We also thank everyone around the globe who has worked to promote and implement open science over the years - they have paved the way for where we are today!\n"
   ]
  },
  {
   "cell_type": "markdown",
   "id": "fcf73521-2406-4f9c-bd8b-ec3297dfc9b6",
   "metadata": {
    "slideshow": {
     "slide_type": "subslide"
    },
    "tags": []
   },
   "source": [
    "## Today\n",
    "\n",
    "- Collaborating with git and github\n",
    "- Software Design Principles, Modularity, and Packaging\n",
    "- Ethos of Open Science "
   ]
  }
 ],
 "metadata": {
  "celltoolbar": "Slideshow",
  "kernelspec": {
   "display_name": "Python 3 (ipykernel)",
   "language": "python",
   "name": "python3"
  },
  "language_info": {
   "codemirror_mode": {
    "name": "ipython",
    "version": 3
   },
   "file_extension": ".py",
   "mimetype": "text/x-python",
   "name": "python",
   "nbconvert_exporter": "python",
   "pygments_lexer": "ipython3",
   "version": "3.13.5"
  }
 },
 "nbformat": 4,
 "nbformat_minor": 5
}
